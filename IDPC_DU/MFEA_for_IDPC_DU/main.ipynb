{
 "cells": [
  {
   "cell_type": "code",
   "execution_count": 6,
   "metadata": {},
   "outputs": [
    {
     "name": "stderr",
     "output_type": "stream",
     "text": [
      "<__array_function__ internals>:5: VisibleDeprecationWarning: Creating an ndarray from ragged nested sequences (which is a list-or-tuple of lists-or-tuples-or ndarrays with different lengths or shapes) is deprecated. If you meant to do this, you must specify 'dtype=object' when creating the ndarray\n"
     ]
    },
    {
     "name": "stdout",
     "output_type": "stream",
     "text": [
      "[12. 13. 12. 12. 12. 12. 12. 12. 12. 12. 12. 12. 12. 12. 12. 12. 12. 12.\n",
      " 12. 12. 12. 12. 12. 12. 12. 12. 12. 12. 12. 12. 12. 12. 12. 12. 12. 12.\n",
      " 12. 12. 12. 12. 12. 12. 12. 12. 12. 12. 12. 12. 12. 12. 12. 12. 12. 12.\n",
      " 12. 12. 12. 12. 12. 12. 12. 12. 12. 12. 12. 12. 12. 12. 12. 12. 12. 12.\n",
      " 12. 12. 12. 12. 12. 12. 12. 12. 12. 12. 12. 12. 12. 12. 12. 12. 12. 12.\n",
      " 12. 12. 12. 12. 12. 12. 12. 12. 12. 12. 12. 12. 12. 12. 13. 13. 13. 13.\n",
      " 13. 12. 12. 13. 13. 12. 12. 12. 12. 12. 12. 13. 12. 12. 12. 12. 12. 12.\n",
      " 12. 12. 12. 12. 12. 12. 13. 13. 13. 13. 13. 13. 13. 13. 13. 13. 13. 13.\n",
      " 13. 13. 13. 12. 12. 12. 12. 12. 12. 12. 12. 12. 12. 12. 12. 12. 12. 13.\n",
      " 13. 13. 13. 13. 12. 13. 12. 13. 12. 13. 13. 13. 13. 12. 12. 12. 12. 13.\n",
      " 13. 13. 12. 13. 13. 13. 12. 12. 13. 13. 13. 12. 13. 13. 13. 13. 13. 12.\n",
      " 13. 12. 13. 12. 12. 13. 12. 13. 12. 12. 12. 13. 12. 13. 12. 12. 13. 12.\n",
      " 13. 13. 13. 13. 12. 12. 13. 13. 12. 12. 13. 13. 13. 13. 13. 12. 13. 13.\n",
      " 12. 12. 13. 13. 13. 13. 13. 12. 12. 12. 13. 13. 13. 13. 12. 12. 12. 13.\n",
      " 13. 13. 12. 13. 13. 13. 12. 13. 12. 12. 13. 12. 12. 13. 12. 12. 13. 13.\n",
      " 12. 12. 12. 12. 13. 12. 12. 12. 12. 12. 12. 13. 12. 13. 12. 13. 13. 12.\n",
      " 13. 13. 13. 12. 12. 12. 12. 13. 12. 13. 13. 12.]\n"
     ]
    }
   ],
   "source": [
    "import numpy as np\n",
    "from idpc_du import *\n",
    "from utils import *\n",
    "NUMBER_TASK = 3\n",
    "np.random.seed(1)\n",
    "tasks = [graph(\"data/set1/idpc_10x10x1000.idpc\"), graph(\"data/set1/idpc_10x5x425.idpc\"), graph(\"data/set1/idpc_10x20x2713.idpc\")]\n",
    "\n",
    "DOMAINS = max(task.number_domains for task in tasks)\n",
    "NODES = max(task.number_nodes for task in tasks)\n",
    "POPULATION = 100\n",
    "LOOP = 500\n",
    "def mfea_for_idpc_du():\n",
    "    S = compute_max_out_edges(tasks, NODES)\n",
    "    population = create_population(POPULATION, NUMBER_TASK, NODES, S)\n",
    "    skill_factor, factorial_cost, path = generate_population(population, tasks)\n",
    "    count = 0\n",
    "    while(count < LOOP): \n",
    "        count += 1 \n",
    "        \n",
    "        child, skill_factor_child= assormative(population, skill_factor, S, 0.5)\n",
    "\n",
    "        factorial_cost_child, path_child = evaluate_child(child, tasks, skill_factor_child)\n",
    "\n",
    "        # concat\n",
    "        population= np.concatenate((population, child))\n",
    "        skill_factor = np.concatenate((skill_factor, skill_factor_child))\n",
    "        factorial_cost = np.concatenate((factorial_cost, factorial_cost_child))\n",
    "        scalar_fitness = compute_scalar_fitness(factorial_cost, skill_factor)\n",
    "        path = np.concatenate((path, path_child))\n",
    "\n",
    "        population, skill_factor, scalar_fitness, factorial_cost, path = update(population, POPULATION * NUMBER_TASK, skill_factor, scalar_fitness, factorial_cost, path)\n",
    "\n",
    "\n",
    "    print(factorial_cost)\n",
    "\n",
    "\n",
    "\n",
    "mfea_for_idpc_du() \n"
   ]
  },
  {
   "cell_type": "code",
   "execution_count": 74,
   "metadata": {},
   "outputs": [
    {
     "name": "stdout",
     "output_type": "stream",
     "text": [
      "None\n"
     ]
    }
   ],
   "source": [
    "S = compute_max_out_edges(tasks, NODES) \n",
    "print(S) \n",
    "        "
   ]
  }
 ],
 "metadata": {
  "interpreter": {
   "hash": "965ba1120b0c101b3f715b6e258a73742ec1cf86f2c8b04492724c87d9f112c3"
  },
  "kernelspec": {
   "display_name": "Python 3.8.8 64-bit",
   "language": "python",
   "name": "python3"
  },
  "language_info": {
   "codemirror_mode": {
    "name": "ipython",
    "version": 3
   },
   "file_extension": ".py",
   "mimetype": "text/x-python",
   "name": "python",
   "nbconvert_exporter": "python",
   "pygments_lexer": "ipython3",
   "version": "3.8.8"
  },
  "orig_nbformat": 4
 },
 "nbformat": 4,
 "nbformat_minor": 2
}
