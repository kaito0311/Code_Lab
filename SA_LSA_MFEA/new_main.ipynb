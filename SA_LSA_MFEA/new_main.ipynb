{
 "cells": [
  {
   "cell_type": "code",
   "execution_count": 1,
   "metadata": {},
   "outputs": [],
   "source": [
    "from utils.benchmark_function import * \n",
    "from mfea import *      \n",
    "from new_lsa_mfea_clean import lsa_mfea\n",
    "\n",
    "tasks = getManyTasks10() \n",
    "# tasks = getManyTask50() \n",
    "history = []\n"
   ]
  },
  {
   "cell_type": "code",
   "execution_count": 2,
   "metadata": {},
   "outputs": [
    {
     "name": "stdout",
     "output_type": "stream",
     "text": [
      "Sphere _dimension: 50\n",
      "Sphere _dimension: 50\n",
      "Sphere _dimension: 50\n",
      "Weierstrass _dimension: 25\n",
      "Rosenbrock _dimension: 50\n",
      "Ackley _dimension: 50\n",
      "Weierstrass _dimension: 50\n",
      "Schewefel _dimension: 50\n",
      "Girewank _dimension: 50\n",
      "Rastrigin _dimension: 50\n"
     ]
    }
   ],
   "source": [
    "for task in tasks: \n",
    "    print(task.name)"
   ]
  },
  {
   "cell_type": "code",
   "execution_count": 3,
   "metadata": {},
   "outputs": [
    {
     "name": "stdout",
     "output_type": "stream",
     "text": [
      "Epoch 1005, [===================>]  99% ,pop_size: 496, func_val: [5.091809154697595e-19, 8.205744767625407e-22, 1.6640547479094111e-25, 0.0, 6.736804428267587e-17, 8.448353128187591e-12, 0.0, 3.637978807091713e-12, 0.0, 43.77815312629491]]]]3.77815312629497]]153126295024]24]]]]]]18984018131]37]7]]\n",
      "Sphere _dimension: 50 :  5.091809154697595e-19\n",
      "Sphere _dimension: 50 :  8.205744767625407e-22\n",
      "Sphere _dimension: 50 :  1.6640547479094111e-25\n",
      "Weierstrass _dimension: 25 :  0.0\n",
      "Rosenbrock _dimension: 50 :  6.736804428267587e-17\n",
      "Ackley _dimension: 50 :  8.448353128187591e-12\n",
      "Weierstrass _dimension: 50 :  0.0\n",
      "Schewefel _dimension: 50 :  3.637978807091713e-12\n",
      "Girewank _dimension: 50 :  0.0\n",
      "Rastrigin _dimension: 50 :  43.77815312629491\n"
     ]
    }
   ],
   "source": [
    "history_cost_lsa, history_rmp_lsa = lsa_mfea(tasks, lsa= True)"
   ]
  },
  {
   "cell_type": "code",
   "execution_count": null,
   "metadata": {},
   "outputs": [],
   "source": []
  },
  {
   "cell_type": "code",
   "execution_count": 4,
   "metadata": {},
   "outputs": [],
   "source": [
    "from plyer import notification\n",
    "\n",
    "notification.notify(\n",
    "    title='Done',\n",
    "    message='thực hiện xong lsa',\n",
    "    app_icon=None,  # e.g. 'C:\\\\icon_32x32.ico'\n",
    "    timeout=10,  # seconds\n",
    ")"
   ]
  },
  {
   "cell_type": "code",
   "execution_count": 5,
   "metadata": {},
   "outputs": [
    {
     "name": "stdout",
     "output_type": "stream",
     "text": [
      "Epoch 409, [========>           ]  40% ,pop_size: 1000, func_val: [0.03087578423734899, 0.006555144857792936, 0.00015403803506138807, 0.0004640707000973521, 4.507437259223341, 0.02301026237928383, 0.14520222303723074, 0.04622805823601084, 0.0651280764972978, 52.615136893382555]]]"
     ]
    },
    {
     "ename": "KeyboardInterrupt",
     "evalue": "",
     "output_type": "error",
     "traceback": [
      "\u001b[1;31m---------------------------------------------------------------------------\u001b[0m",
      "\u001b[1;31mKeyboardInterrupt\u001b[0m                         Traceback (most recent call last)",
      "\u001b[1;32m~\\AppData\\Local\\Temp/ipykernel_15608/3228909940.py\u001b[0m in \u001b[0;36m<module>\u001b[1;34m\u001b[0m\n\u001b[1;32m----> 1\u001b[1;33m \u001b[0mhistory_cost_sa\u001b[0m\u001b[1;33m,\u001b[0m \u001b[0mhistory_rmp_sa\u001b[0m \u001b[1;33m=\u001b[0m \u001b[0mlsa_mfea\u001b[0m\u001b[1;33m(\u001b[0m\u001b[0mtasks\u001b[0m\u001b[1;33m,\u001b[0m \u001b[0mlsa\u001b[0m\u001b[1;33m=\u001b[0m \u001b[1;32mFalse\u001b[0m\u001b[1;33m)\u001b[0m\u001b[1;33m\u001b[0m\u001b[1;33m\u001b[0m\u001b[0m\n\u001b[0m",
      "\u001b[1;32md:\\OneDrive - Hanoi University of Science and Technology\\My_self\\Work\\Lab\\Code_Lab\\SA_LSA_MFEA\\new_lsa_mfea_clean.py\u001b[0m in \u001b[0;36mlsa_mfea\u001b[1;34m(tasks, lsa)\u001b[0m\n\u001b[0;32m    148\u001b[0m \u001b[1;33m\u001b[0m\u001b[0m\n\u001b[0;32m    149\u001b[0m                 \u001b[0mfcost_oa\u001b[0m \u001b[1;33m=\u001b[0m \u001b[0mtasks\u001b[0m\u001b[1;33m[\u001b[0m\u001b[0mskf_oa\u001b[0m\u001b[1;33m]\u001b[0m\u001b[1;33m.\u001b[0m\u001b[0mcalculate_fitness\u001b[0m\u001b[1;33m(\u001b[0m\u001b[0moa\u001b[0m\u001b[1;33m)\u001b[0m\u001b[1;33m\u001b[0m\u001b[1;33m\u001b[0m\u001b[0m\n\u001b[1;32m--> 150\u001b[1;33m                 \u001b[0mfcost_ob\u001b[0m \u001b[1;33m=\u001b[0m \u001b[0mtasks\u001b[0m\u001b[1;33m[\u001b[0m\u001b[0mskf_ob\u001b[0m\u001b[1;33m]\u001b[0m\u001b[1;33m.\u001b[0m\u001b[0mcalculate_fitness\u001b[0m\u001b[1;33m(\u001b[0m\u001b[0mob\u001b[0m\u001b[1;33m)\u001b[0m\u001b[1;33m\u001b[0m\u001b[1;33m\u001b[0m\u001b[0m\n\u001b[0m\u001b[0;32m    151\u001b[0m \u001b[1;33m\u001b[0m\u001b[0m\n\u001b[0;32m    152\u001b[0m                 \u001b[1;32mif\u001b[0m \u001b[0mskf_oa\u001b[0m \u001b[1;33m==\u001b[0m \u001b[0mskill_factor\u001b[0m\u001b[1;33m[\u001b[0m\u001b[0mindex_pa\u001b[0m\u001b[1;33m]\u001b[0m\u001b[1;33m:\u001b[0m\u001b[1;33m\u001b[0m\u001b[1;33m\u001b[0m\u001b[0m\n",
      "\u001b[1;32md:\\OneDrive - Hanoi University of Science and Technology\\My_self\\Work\\Lab\\Code_Lab\\SA_LSA_MFEA\\utils\\benchmark_function.py\u001b[0m in \u001b[0;36mcalculate_fitness\u001b[1;34m(self, array_value)\u001b[0m\n\u001b[0;32m    121\u001b[0m         \u001b[1;32mfor\u001b[0m \u001b[0mi\u001b[0m \u001b[1;32min\u001b[0m \u001b[0mrange\u001b[0m\u001b[1;33m(\u001b[0m\u001b[0mself\u001b[0m\u001b[1;33m.\u001b[0m\u001b[0mdimension\u001b[0m\u001b[1;33m)\u001b[0m\u001b[1;33m:\u001b[0m\u001b[1;33m\u001b[0m\u001b[1;33m\u001b[0m\u001b[0m\n\u001b[0;32m    122\u001b[0m             left += np.sum(self.a ** np.arange(self.kmax) * \\\n\u001b[1;32m--> 123\u001b[1;33m                 np.cos(2*np.pi * self.b ** np.arange(self.kmax) * (x[i]  + 0.5)))\n\u001b[0m\u001b[0;32m    124\u001b[0m \u001b[1;33m\u001b[0m\u001b[0m\n\u001b[0;32m    125\u001b[0m         right = self.dimension * np.sum(self.a ** np.arange(self.kmax) * \\\n",
      "\u001b[1;31mKeyboardInterrupt\u001b[0m: "
     ]
    }
   ],
   "source": [
    "history_cost_sa, history_rmp_sa = lsa_mfea(tasks, lsa= False)"
   ]
  },
  {
   "cell_type": "code",
   "execution_count": null,
   "metadata": {},
   "outputs": [],
   "source": [
    "history.append(history_cost_sa)"
   ]
  },
  {
   "cell_type": "code",
   "execution_count": null,
   "metadata": {},
   "outputs": [],
   "source": [
    "history.append(history_cost_lsa)"
   ]
  },
  {
   "cell_type": "code",
   "execution_count": null,
   "metadata": {},
   "outputs": [],
   "source": [
    "name = [\"sa\", \"lsa\", \"mfea\"]\n",
    "fig = plt.figure(figsize = (50, 30), dpi= 100)\n",
    "fig.set_facecolor(\"white\")\n",
    "color = ['r', 'b', 'y']\n",
    "\n",
    "for task in range(NUMBER_TASKS):\n",
    "    for version in range(len(history)):\n",
    "        x_axis = np.arange(len(history[version]))\n",
    "        y_axis =  [x[task].cost for x in history[version]]\n",
    "\n",
    "        plt.subplot(2, int(len(tasks)/2), task+1)\n",
    "        plt.plot(x_axis, y_axis, color[version], label = name[version])\n",
    "        plt.yscale('log')\n",
    "        plt.legend()\n",
    "\n",
    "    plt.title(tasks[task].name)\n",
    "plt.show()"
   ]
  },
  {
   "cell_type": "code",
   "execution_count": null,
   "metadata": {},
   "outputs": [],
   "source": [
    "fig = plt.figure(figsize = (50, 12), dpi= 500)\n",
    "fig.suptitle(\"LSA RMP Val\\n\", size = 15)\n",
    "fig.set_facecolor(\"white\")\n",
    "\n",
    "for i in range(len(tasks)):\n",
    "    for j in range (len(tasks)): \n",
    "        plt.subplot(2, int(len(tasks)/2), i + 1)\n",
    "        a = i; \n",
    "        b = j;\n",
    "        if i > j: \n",
    "            tmp = a \n",
    "            a = b\n",
    "            b = tmp\n",
    "        plt.plot(np.arange(len(history_rmp_lsa[a][b])), np.array(history_rmp_lsa[a][b]), label= 'task: ' +str( j + 1))\n",
    "        plt.legend()\n",
    "\n",
    "\n",
    "\n",
    "    plt.title('task ' + str( i+1))\n",
    "    plt.xlabel(\"Epoch\")\n",
    "    plt.ylabel(\"M_rmp\")\n",
    "    plt.ylim(bottom = -0.1, top = 1.1)"
   ]
  },
  {
   "cell_type": "markdown",
   "metadata": {},
   "source": []
  }
 ],
 "metadata": {
  "interpreter": {
   "hash": "965ba1120b0c101b3f715b6e258a73742ec1cf86f2c8b04492724c87d9f112c3"
  },
  "kernelspec": {
   "display_name": "Python 3.8.8 64-bit",
   "language": "python",
   "name": "python3"
  },
  "language_info": {
   "codemirror_mode": {
    "name": "ipython",
    "version": 3
   },
   "file_extension": ".py",
   "mimetype": "text/x-python",
   "name": "python",
   "nbconvert_exporter": "python",
   "pygments_lexer": "ipython3",
   "version": "3.9.5"
  },
  "orig_nbformat": 4
 },
 "nbformat": 4,
 "nbformat_minor": 2
}
