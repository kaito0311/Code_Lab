{
 "cells": [
  {
   "cell_type": "code",
   "execution_count": 61,
   "metadata": {},
   "outputs": [],
   "source": [
    "from numpy.core.defchararray import upper\n",
    "from utils_mf import * \n",
    "from lsa_mfea import * \n",
    "from mfea import * \n"
   ]
  },
  {
   "cell_type": "code",
   "execution_count": 62,
   "metadata": {},
   "outputs": [],
   "source": [
    "def switch_func(i):\n",
    "    switcher = {\n",
    "        0: [1],\n",
    "        1: [2],\n",
    "        2: [4],\n",
    "        3: [1, 2, 3],\n",
    "        4: [4,5,6],\n",
    "        5: [2,5,7],\n",
    "        6: [3,4,6],\n",
    "        7: [2,3,4,5,6],\n",
    "        8: [2,3,4,5,6,7],\n",
    "        9: [3,4,5,6,7]\n",
    "\n",
    "    }\n",
    "    assert i <10 and i >= 0\n",
    "    return switcher.get(i)"
   ]
  },
  {
   "cell_type": "code",
   "execution_count": 63,
   "metadata": {},
   "outputs": [],
   "source": [
    "def switch_task(i, matrix, bias, dim):\n",
    "    switcher = {\n",
    "        1: Sphere(matrix, bias, dimension= dim, lower= -100, upper = 100),\n",
    "        2: Rosenbrock(matrix, bias, dimension= dim, lower= -50, upper= 50),\n",
    "        3: Ackley(matrix, bias, dimension= dim, lower= -50, upper= 50),\n",
    "        4: Rastrigin(matrix, bias, dimension= dim, lower = -50, upper = 50),\n",
    "        5: Girewank(matrix, bias, dimension= dim, lower = -100, upper= 100),\n",
    "        6: Weierstrass(matrix, bias, dimension= dim, lower = -0.5, upper= 0.5),\n",
    "        7: Schewefel(matrix, bias, dimension= dim, lower = -500, upper= 500)\n",
    "    }\n",
    "    # print(i)\n",
    "    # print(Sphere(matrix, bias, dimension= dim, lower= -100, upper = 100).name)\n",
    "\n",
    "    assert i >= 1 and i <= 7\n",
    "    return switcher.get(i)"
   ]
  },
  {
   "cell_type": "code",
   "execution_count": 64,
   "metadata": {},
   "outputs": [],
   "source": [
    "def load_file(path_file):\n",
    "    input = np.loadtxt(path_file)\n",
    "    return input"
   ]
  },
  {
   "cell_type": "code",
   "execution_count": 65,
   "metadata": {},
   "outputs": [],
   "source": [
    "def getManyTask50():\n",
    "    tasks = [] \n",
    "    tasks_size = 2; \n",
    "    for index in range(1): \n",
    "        dim = 50; \n",
    "        choice_functions = switch_func(index) \n",
    "        for task_id in range(tasks_size):\n",
    "            task_id += 1 \n",
    "\n",
    "            function_id = choice_functions[(task_id -1) % len(choice_functions)]\n",
    "            file_dir = \"./GECCO/Tasks/benchmark_\" + str(index+1); \n",
    "            file_matrix = file_dir + \"/matrix_\" + str(task_id) \n",
    "            file_bias = file_dir + \"/bias_\" + str(task_id)\n",
    "            matrix = load_file(file_matrix)\n",
    "            bias = load_file(file_bias)\n",
    "            assert matrix.shape == (50,50)\n",
    "            assert bias.shape == (50,)\n",
    "            tasks.append(switch_task(function_id, matrix, bias, dim))\n",
    "    \n",
    "    return tasks \n"
   ]
  },
  {
   "cell_type": "code",
   "execution_count": 66,
   "metadata": {},
   "outputs": [],
   "source": [
    "def visual_result(history, name, tasks):\n",
    "    _, bieudo = plt.subplots(1, NUMBER_TASKS)\n",
    "    color = ['r', 'b', 'y']\n",
    "\n",
    "    for task in range(NUMBER_TASKS):\n",
    "        for version in range(len(history)):\n",
    "            x_axis = np.arange(len(history[version]))\n",
    "            y_axis =  [x[task].cost for x in history[version]]\n",
    "\n",
    "            bieudo[task].plot(x_axis,y_axis, color[version], label = name[version])\n",
    "            ymin, y_max = min(y_axis), max(y_axis)\n",
    "            plt.yscale('log')\n",
    "            # plt.ylim(ymin, 1)\n",
    "            bieudo[task].set (title= tasks[task].name)\n",
    "    plt.legend(loc = 'best')\n",
    "    plt.show()\n"
   ]
  },
  {
   "cell_type": "code",
   "execution_count": 67,
   "metadata": {},
   "outputs": [],
   "source": [
    "def main() :\n",
    "    \n",
    "    tasks = getManyTask50()    \n",
    "    history= []\n",
    "    print(\"lsa_mfea\")\n",
    "    hi, history_rmp = lsa_mfea(tasks)\n",
    "    # for number_rmp in range(len(history_rmp[0])):\n",
    "    history.append(hi)\n",
    "    print(\"mfea\")\n",
    "    history.append(mfea2(tasks))\n",
    "    \n",
    "\n",
    "    # print(len(history_rmp[0]))\n",
    "\n",
    "    # import pygame \n",
    "\n",
    "    # pygame.mixer.init()\n",
    "    # pygame.mixer.music.load(\"D:/LinhTinh/warning_audio.mp3\")\n",
    "    # pygame.mixer.music.play()\n",
    "\n",
    "    # import time \n",
    "    # time.sleep(1) \n",
    "    visual_result(history, [\"lsa_mfea\", \"mfea\"], tasks)\n"
   ]
  },
  {
   "cell_type": "code",
   "execution_count": 69,
   "metadata": {},
   "outputs": [
    {
     "name": "stdout",
     "output_type": "stream",
     "text": [
      "lsa_mfea\n"
     ]
    },
    {
     "name": "stderr",
     "output_type": "stream",
     "text": [
      "  0%|          | 0/1000 [00:03<?, ?it/s]\n"
     ]
    },
    {
     "ename": "AssertionError",
     "evalue": "",
     "output_type": "error",
     "traceback": [
      "\u001b[1;31m---------------------------------------------------------------------------\u001b[0m",
      "\u001b[1;31mAssertionError\u001b[0m                            Traceback (most recent call last)",
      "\u001b[1;32m<ipython-input-69-263240bbee7e>\u001b[0m in \u001b[0;36m<module>\u001b[1;34m\u001b[0m\n\u001b[1;32m----> 1\u001b[1;33m \u001b[0mmain\u001b[0m\u001b[1;33m(\u001b[0m\u001b[1;33m)\u001b[0m\u001b[1;33m\u001b[0m\u001b[1;33m\u001b[0m\u001b[0m\n\u001b[0m",
      "\u001b[1;32m<ipython-input-67-ba5519ff7517>\u001b[0m in \u001b[0;36mmain\u001b[1;34m()\u001b[0m\n\u001b[0;32m      4\u001b[0m     \u001b[0mhistory\u001b[0m\u001b[1;33m=\u001b[0m \u001b[1;33m[\u001b[0m\u001b[1;33m]\u001b[0m\u001b[1;33m\u001b[0m\u001b[1;33m\u001b[0m\u001b[0m\n\u001b[0;32m      5\u001b[0m     \u001b[0mprint\u001b[0m\u001b[1;33m(\u001b[0m\u001b[1;34m\"lsa_mfea\"\u001b[0m\u001b[1;33m)\u001b[0m\u001b[1;33m\u001b[0m\u001b[1;33m\u001b[0m\u001b[0m\n\u001b[1;32m----> 6\u001b[1;33m     \u001b[0mhi\u001b[0m\u001b[1;33m,\u001b[0m \u001b[0mhistory_rmp\u001b[0m \u001b[1;33m=\u001b[0m \u001b[0mlsa_mfea\u001b[0m\u001b[1;33m(\u001b[0m\u001b[0mtasks\u001b[0m\u001b[1;33m)\u001b[0m\u001b[1;33m\u001b[0m\u001b[1;33m\u001b[0m\u001b[0m\n\u001b[0m\u001b[0;32m      7\u001b[0m     \u001b[1;31m# for number_rmp in range(len(history_rmp[0])):\u001b[0m\u001b[1;33m\u001b[0m\u001b[1;33m\u001b[0m\u001b[1;33m\u001b[0m\u001b[0m\n\u001b[0;32m      8\u001b[0m     \u001b[0mhistory\u001b[0m\u001b[1;33m.\u001b[0m\u001b[0mappend\u001b[0m\u001b[1;33m(\u001b[0m\u001b[0mhi\u001b[0m\u001b[1;33m)\u001b[0m\u001b[1;33m\u001b[0m\u001b[1;33m\u001b[0m\u001b[0m\n",
      "\u001b[1;32md:\\OneDrive - Hanoi University of Science and Technology\\My_self\\Work\\Lab\\Code_Lab\\SA_LSA_MFEA\\lsa_mfea.py\u001b[0m in \u001b[0;36mlsa_mfea\u001b[1;34m(tasks, lsa)\u001b[0m\n\u001b[0;32m    117\u001b[0m         \u001b[1;32massert\u001b[0m \u001b[0mlen\u001b[0m\u001b[1;33m(\u001b[0m\u001b[0mpopulation\u001b[0m\u001b[1;33m)\u001b[0m \u001b[1;33m==\u001b[0m \u001b[0mlen\u001b[0m\u001b[1;33m(\u001b[0m\u001b[0mfactorial_cost\u001b[0m\u001b[1;33m)\u001b[0m\u001b[1;33m\u001b[0m\u001b[1;33m\u001b[0m\u001b[0m\n\u001b[0;32m    118\u001b[0m \u001b[1;33m\u001b[0m\u001b[0m\n\u001b[1;32m--> 119\u001b[1;33m         population, skill_factor, scalar_fitness, factorial_cost = update(population, current_size_population, \\\n\u001b[0m\u001b[0;32m    120\u001b[0m                                                                     skill_factor, scalar_fitness, factorial_cost)\n\u001b[0;32m    121\u001b[0m \u001b[1;33m\u001b[0m\u001b[0m\n",
      "\u001b[1;32md:\\OneDrive - Hanoi University of Science and Technology\\My_self\\Work\\Lab\\Code_Lab\\SA_LSA_MFEA\\utils_sa_lsa.py\u001b[0m in \u001b[0;36mupdate\u001b[1;34m(population, number_population, skill_factor, scalar_fitness, factorial_cost)\u001b[0m\n\u001b[0;32m    258\u001b[0m     \u001b[0mscalar_fitness\u001b[0m \u001b[1;33m=\u001b[0m \u001b[0mnp\u001b[0m\u001b[1;33m.\u001b[0m\u001b[0mdelete\u001b[0m\u001b[1;33m(\u001b[0m\u001b[0mscalar_fitness\u001b[0m\u001b[1;33m,\u001b[0m \u001b[0mdelete_index\u001b[0m\u001b[1;33m,\u001b[0m \u001b[0maxis\u001b[0m\u001b[1;33m=\u001b[0m\u001b[1;36m0\u001b[0m\u001b[1;33m)\u001b[0m\u001b[1;33m\u001b[0m\u001b[1;33m\u001b[0m\u001b[0m\n\u001b[0;32m    259\u001b[0m \u001b[1;33m\u001b[0m\u001b[0m\n\u001b[1;32m--> 260\u001b[1;33m     \u001b[1;32massert\u001b[0m \u001b[0mlen\u001b[0m\u001b[1;33m(\u001b[0m\u001b[0mpopulation\u001b[0m\u001b[1;33m)\u001b[0m \u001b[1;33m==\u001b[0m \u001b[0mnp\u001b[0m\u001b[1;33m.\u001b[0m\u001b[0msum\u001b[0m\u001b[1;33m(\u001b[0m\u001b[0mnumber_population\u001b[0m\u001b[1;33m)\u001b[0m\u001b[1;33m\u001b[0m\u001b[1;33m\u001b[0m\u001b[0m\n\u001b[0m\u001b[0;32m    261\u001b[0m \u001b[1;33m\u001b[0m\u001b[0m\n\u001b[0;32m    262\u001b[0m     \u001b[1;32mreturn\u001b[0m \u001b[0mpopulation\u001b[0m\u001b[1;33m,\u001b[0m \u001b[0mskill_factor\u001b[0m\u001b[1;33m,\u001b[0m \u001b[0mscalar_fitness\u001b[0m\u001b[1;33m,\u001b[0m \u001b[0mfactorial_cost\u001b[0m\u001b[1;33m\u001b[0m\u001b[1;33m\u001b[0m\u001b[0m\n",
      "\u001b[1;31mAssertionError\u001b[0m: "
     ]
    }
   ],
   "source": [
    "main()"
   ]
  }
 ],
 "metadata": {
  "interpreter": {
   "hash": "965ba1120b0c101b3f715b6e258a73742ec1cf86f2c8b04492724c87d9f112c3"
  },
  "kernelspec": {
   "display_name": "Python 3.8.8 64-bit",
   "language": "python",
   "name": "python3"
  },
  "language_info": {
   "codemirror_mode": {
    "name": "ipython",
    "version": 3
   },
   "file_extension": ".py",
   "mimetype": "text/x-python",
   "name": "python",
   "nbconvert_exporter": "python",
   "pygments_lexer": "ipython3",
   "version": "3.8.8"
  },
  "orig_nbformat": 4
 },
 "nbformat": 4,
 "nbformat_minor": 2
}
