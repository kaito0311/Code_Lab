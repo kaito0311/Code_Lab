{
 "cells": [
  {
   "cell_type": "code",
   "execution_count": 1,
   "metadata": {},
   "outputs": [
    {
     "name": "stdout",
     "output_type": "stream",
     "text": [
      "[7]\n"
     ]
    }
   ],
   "source": [
    "import numpy as np \n",
    "\n",
    "i = np.random.choice(np.arange(10)[1:], size= 1)\n",
    "print(i)"
   ]
  },
  {
   "cell_type": "code",
   "execution_count": 14,
   "metadata": {},
   "outputs": [
    {
     "name": "stdout",
     "output_type": "stream",
     "text": [
      "[0.67405987 1.10365725 0.53459924]\n",
      "[0.40000037 0.30518286 0.17672996]\n",
      "[0.40000023 0.19481714 0.12327004]\n"
     ]
    }
   ],
   "source": [
    "from utils.operators import sbx_crossover \n",
    "\n",
    "a = np.array([0.4000004, 0.3, 0.2])\n",
    "b = np.array([0.4000002, 0.2, 0.1])\n",
    "oa, ob = sbx_crossover(a, b, swap= False)\n",
    "print(oa)\n",
    "print(ob)"
   ]
  },
  {
   "cell_type": "code",
   "execution_count": 114,
   "metadata": {},
   "outputs": [
    {
     "name": "stdout",
     "output_type": "stream",
     "text": [
      "-0.6884190211135358\n",
      "0.09803742866701334\n",
      "0.0901631786405019\n"
     ]
    }
   ],
   "source": [
    "a = 0.0901631786405019\n",
    "b = 0.49999999999999999\n",
    "import numpy as np \n",
    "\n",
    "print(np.log10(np.std(np.array([a,b]))))\n",
    "print(a + np.random.normal(loc= 0, scale= 1e-2))\n",
    "print(a)"
   ]
  },
  {
   "cell_type": "code",
   "execution_count": 1,
   "metadata": {},
   "outputs": [
    {
     "data": {
      "text/plain": [
       "array([[1, 0, 1],\n",
       "       [1, 0, 1],\n",
       "       [1, 0, 1]])"
      ]
     },
     "execution_count": 1,
     "metadata": {},
     "output_type": "execute_result"
    }
   ],
   "source": [
    "import numpy as np \n",
    "a = np.ones(shape= (3, 3), dtype= int) \n",
    "a[:,1] = 0\n",
    "a"
   ]
  },
  {
   "cell_type": "code",
   "execution_count": 35,
   "metadata": {},
   "outputs": [
    {
     "name": "stdout",
     "output_type": "stream",
     "text": [
      "[4 3]\n"
     ]
    }
   ],
   "source": [
    "import numpy as np \n",
    "\n",
    "a = np.array([3,4])\n",
    "b = np.random.choice(a, size= 2, replace= True)\n",
    "print(b)"
   ]
  },
  {
   "cell_type": "code",
   "execution_count": 1,
   "metadata": {},
   "outputs": [
    {
     "ename": "NameError",
     "evalue": "name 'np' is not defined",
     "output_type": "error",
     "traceback": [
      "\u001b[1;31m---------------------------------------------------------------------------\u001b[0m",
      "\u001b[1;31mNameError\u001b[0m                                 Traceback (most recent call last)",
      "\u001b[1;32m~\\AppData\\Local\\Temp/ipykernel_19492/2535556019.py\u001b[0m in \u001b[0;36m<module>\u001b[1;34m\u001b[0m\n\u001b[0;32m      1\u001b[0m \u001b[1;32mfrom\u001b[0m \u001b[0mutils\u001b[0m\u001b[1;33m.\u001b[0m\u001b[0moperators\u001b[0m \u001b[1;32mimport\u001b[0m \u001b[0msbx_crossover\u001b[0m\u001b[1;33m\u001b[0m\u001b[1;33m\u001b[0m\u001b[0m\n\u001b[1;32m----> 2\u001b[1;33m \u001b[0ma\u001b[0m \u001b[1;33m=\u001b[0m \u001b[0mnp\u001b[0m\u001b[1;33m.\u001b[0m\u001b[0mzeros\u001b[0m\u001b[1;33m(\u001b[0m\u001b[0mshape\u001b[0m\u001b[1;33m=\u001b[0m \u001b[1;33m(\u001b[0m\u001b[1;36m9\u001b[0m\u001b[1;33m,\u001b[0m\u001b[1;33m)\u001b[0m\u001b[1;33m)\u001b[0m \u001b[1;33m+\u001b[0m \u001b[1;36m0.9000000000000001\u001b[0m\u001b[1;33m\u001b[0m\u001b[1;33m\u001b[0m\u001b[0m\n\u001b[0m\u001b[0;32m      3\u001b[0m \u001b[0mb\u001b[0m \u001b[1;33m=\u001b[0m \u001b[0mnp\u001b[0m\u001b[1;33m.\u001b[0m\u001b[0mzeros\u001b[0m\u001b[1;33m(\u001b[0m\u001b[0mshape\u001b[0m\u001b[1;33m=\u001b[0m \u001b[1;33m(\u001b[0m\u001b[1;36m9\u001b[0m\u001b[1;33m,\u001b[0m\u001b[1;33m)\u001b[0m\u001b[1;33m)\u001b[0m \u001b[1;33m+\u001b[0m \u001b[1;36m0.9000000000000001\u001b[0m\u001b[1;33m\u001b[0m\u001b[1;33m\u001b[0m\u001b[0m\n\u001b[0;32m      4\u001b[0m \u001b[0mprint\u001b[0m\u001b[1;33m(\u001b[0m\u001b[0ma\u001b[0m\u001b[1;33m)\u001b[0m\u001b[1;33m\u001b[0m\u001b[1;33m\u001b[0m\u001b[0m\n\u001b[0;32m      5\u001b[0m \u001b[0moa\u001b[0m\u001b[1;33m,\u001b[0m \u001b[0mob\u001b[0m \u001b[1;33m=\u001b[0m \u001b[0msbx_crossover\u001b[0m\u001b[1;33m(\u001b[0m\u001b[0ma\u001b[0m\u001b[1;33m,\u001b[0m \u001b[0mb\u001b[0m\u001b[1;33m)\u001b[0m\u001b[1;33m\u001b[0m\u001b[1;33m\u001b[0m\u001b[0m\n",
      "\u001b[1;31mNameError\u001b[0m: name 'np' is not defined"
     ]
    }
   ],
   "source": [
    "from utils.operators import sbx_crossover \n",
    "a = np.zeros(shape= (9,)) + 0.9000000000000001\n",
    "b = np.zeros(shape= (9,)) + 0.9000000000000001\n",
    "print(a)\n",
    "oa, ob = sbx_crossover(a, b)\n",
    "print(oa)\n",
    "print(ob)\n",
    "print(a[0])\n",
    "print(oa[0])"
   ]
  },
  {
   "cell_type": "code",
   "execution_count": 12,
   "metadata": {},
   "outputs": [
    {
     "name": "stdout",
     "output_type": "stream",
     "text": [
      "[1.000e+00 1.010e+02 2.010e+02 3.010e+02 4.010e+02 5.010e+02 6.010e+02\n",
      " 7.010e+02 8.010e+02 9.010e+02 1.001e+03 1.101e+03 1.201e+03 1.301e+03\n",
      " 1.401e+03 1.501e+03 1.601e+03 1.701e+03]\n",
      "[1.00000000e+00 9.90099010e-03 4.97512438e-03 3.32225914e-03\n",
      " 2.49376559e-03 1.99600798e-03 1.66389351e-03 1.42653352e-03\n",
      " 1.24843945e-03 1.10987791e-03 9.99000999e-04 9.08265213e-04\n",
      " 8.32639467e-04 7.68639508e-04 7.13775874e-04 6.66222518e-04\n",
      " 6.24609619e-04 5.87889477e-04]\n",
      "[9.66895496e-01 9.57322273e-03 4.81042535e-03 3.21227739e-03\n",
      " 2.41121071e-03 1.92993113e-03 1.60881114e-03 1.37930884e-03\n",
      " 1.20711048e-03 1.07313596e-03 9.65929566e-04 8.78197544e-04\n",
      " 8.05075350e-04 7.43194078e-04 6.90146678e-04 6.44167552e-04\n",
      " 6.03932227e-04 5.68427687e-04]\n"
     ]
    }
   ],
   "source": [
    "import numpy as np \n",
    "\n",
    "a = np.zeros(shape= (18,))\n",
    "for i in range(18): \n",
    "    a[i] = i * 100 + 1\n",
    "print(a)\n",
    "a = 1/ a \n",
    "print(a) \n",
    "a = a / np.sum(a) \n",
    "print(a) "
   ]
  },
  {
   "cell_type": "code",
   "execution_count": 2,
   "metadata": {},
   "outputs": [
    {
     "name": "stdout",
     "output_type": "stream",
     "text": [
      "0.11719069559123785\n",
      "0.02066858340161395\n",
      "-0.0015643336983793374\n",
      "0.12204348335400267\n",
      "0.2504904815115049\n",
      "-0.07340047271399162\n",
      "-0.039090322590278316\n",
      "0.05955189934533181\n",
      "0.05255764549168678\n",
      "0.2854787400554212\n"
     ]
    }
   ],
   "source": [
    "import numpy as np \n",
    "for i in range(10):\n",
    "    print(np.random.normal(loc= 0, scale= 10**-1))"
   ]
  },
  {
   "cell_type": "code",
   "execution_count": 7,
   "metadata": {},
   "outputs": [
    {
     "name": "stdout",
     "output_type": "stream",
     "text": [
      "0.49999999999999994\n",
      "0.5611978754492872\n",
      "0.5000000000000019\n",
      "0.5000000033678653\n",
      "0.4999999998988497\n",
      "0.49990649633201645\n",
      "0.5013126245909889\n",
      "0.499999860812978\n",
      "0.4999971987763637\n",
      "0.5002251572492707\n",
      "0.5000000178254835\n",
      "0.4999998953407977\n",
      "0.49999999994022915\n",
      "0.5000005378540019\n",
      "0.4999999999999999\n",
      "0.49999999999999994\n",
      "0.5000000000000011\n",
      "0.49999999999999767\n",
      "0.4999999993989829\n",
      "0.4999923445730857\n",
      "0.4999999978248222\n",
      "0.49999999090960157\n",
      "0.5000000115869686\n",
      "0.4997221136970067\n",
      "0.4999902347741674\n",
      "0.49999992091183554\n",
      "0.5000000000104361\n",
      "0.5000007930365031\n",
      "0.48527641084910617\n",
      "0.4999615110654732\n",
      "0.5001832859888345\n",
      "0.49999999999999994\n",
      "0.5000000000000282\n",
      "0.49999931384657387\n",
      "0.4987265158087481\n",
      "0.4999114821668799\n",
      "0.5106156341171594\n",
      "0.49995901751864347\n",
      "0.4999999999996133\n",
      "0.5000000004856034\n",
      "0.5000097913764514\n",
      "0.5000000007148258\n",
      "0.4999911920907954\n",
      "0.5000011217826984\n",
      "0.4997478421138117\n",
      "0.4946517429126046\n",
      "0.49999998184067973\n",
      "0.5002178953012784\n",
      "0.4981642963952938\n",
      "0.499656280643789\n",
      "0.5090355891437754\n",
      "0.5000000087984775\n",
      "0.49999999999999994\n",
      "0.4999999999999979\n",
      "0.4996069713686851\n",
      "0.4999999999920508\n",
      "0.38064952152226195\n",
      "0.47123692139709983\n",
      "0.5000000000001394\n",
      "0.4805094049378866\n",
      "0.4999999996263283\n",
      "0.50000000000004\n",
      "0.4997490546003146\n",
      "0.5015904240860792\n",
      "0.5\n"
     ]
    }
   ],
   "source": [
    "import numpy as np \n",
    "a = 0.49999999999999994\n",
    "while np.abs(a - 0.5) >=1e-25:\n",
    "    a = 0.49999999999999994\n",
    "    scale =10 **  (-int(np.random.choice(np.arange(17) + 1, size= 1)))\n",
    "    \n",
    "    a = np.random.normal(loc= a,scale= scale)\n",
    "    print(a) \n"
   ]
  },
  {
   "cell_type": "code",
   "execution_count": 14,
   "metadata": {},
   "outputs": [
    {
     "name": "stdout",
     "output_type": "stream",
     "text": [
      "0.1\n",
      "0.0\n",
      "0.1\n",
      "0.07918124604762482\n",
      "[]\n",
      "1e-10\n"
     ]
    }
   ],
   "source": [
    "import numpy as np\n",
    "\n",
    "a = np.array([0.100000, 0.100000, 0.1, 0.1]) \n",
    "print(np.mean(a))\n",
    "print(np.std(a))\n",
    "print(np.random.normal(np.mean(a), np.std(a)))\n",
    "# b = 0\n",
    "# count = 0 \n",
    "\n",
    "# while count < 10:\n",
    "#     count += 1\n",
    "#     b = np.random.normal(loc= 0, scale= 0.00002)\n",
    "#     print(b)\n",
    "# print(0.00002 - 2e-5)\n",
    "\n",
    "\n",
    "b = np.log10(1.2)\n",
    "c = np.arange(int(np.abs(b)))\n",
    "print(b)\n",
    "print(c)\n",
    "e = -10 \n",
    "b = 10 ** e \n",
    "print(b) "
   ]
  },
  {
   "cell_type": "code",
   "execution_count": 2,
   "metadata": {},
   "outputs": [
    {
     "name": "stdout",
     "output_type": "stream",
     "text": [
      "[3, 6, 7, 5]\n"
     ]
    }
   ],
   "source": [
    "import numpy as np\n",
    "a = [1,2,3,4,5,6,7,8]\n",
    "np.random.shuffle(a)\n",
    "print(a[:int(len(a)/2)])"
   ]
  },
  {
   "cell_type": "code",
   "execution_count": 9,
   "metadata": {},
   "outputs": [
    {
     "name": "stdout",
     "output_type": "stream",
     "text": [
      "[[ 1.          2.          3.          0.04183027]\n",
      " [ 4.          5.          6.         -0.10082062]\n",
      " [ 3.          4.          5.         -0.05443306]]\n"
     ]
    }
   ],
   "source": [
    "from utils.utils_model_mfea import * \n",
    "from utils.utils_gauss_adapt import * \n",
    "x = np.array([[1,2,3], [4,5,6], [3,4,5]])\n",
    "y = add_coefficient_gauss(x) \n",
    "print(y)"
   ]
  },
  {
   "cell_type": "code",
   "execution_count": 4,
   "metadata": {},
   "outputs": [
    {
     "name": "stdout",
     "output_type": "stream",
     "text": [
      "[5 6 7 8]\n"
     ]
    },
    {
     "data": {
      "text/plain": [
       "array([[4, 5, 6, None]], dtype=object)"
      ]
     },
     "execution_count": 4,
     "metadata": {},
     "output_type": "execute_result"
    }
   ],
   "source": [
    "import numpy as np \n",
    "a = np.array([1,2,3,4,5,6,7,8])\n",
    "b = np.where(a > 4)\n",
    "# np.where(a[a] < 8)\n",
    "print(a[b])\n",
    "np.where(a[b] < 8, b, None)"
   ]
  },
  {
   "cell_type": "code",
   "execution_count": 5,
   "metadata": {},
   "outputs": [
    {
     "ename": "NameError",
     "evalue": "name 'balloon_tip' is not defined",
     "output_type": "error",
     "traceback": [
      "\u001b[1;31m---------------------------------------------------------------------------\u001b[0m",
      "\u001b[1;31mNameError\u001b[0m                                 Traceback (most recent call last)",
      "\u001b[1;32m~\\AppData\\Local\\Temp/ipykernel_12964/2423744191.py\u001b[0m in \u001b[0;36m<module>\u001b[1;34m\u001b[0m\n\u001b[1;32m----> 1\u001b[1;33m \u001b[0mballoon_tip\u001b[0m\u001b[1;33m(\u001b[0m\u001b[1;34m\"aa\"\u001b[0m\u001b[1;33m,\u001b[0m \u001b[1;34m\"aa\"\u001b[0m\u001b[1;33m)\u001b[0m\u001b[1;33m\u001b[0m\u001b[1;33m\u001b[0m\u001b[0m\n\u001b[0m",
      "\u001b[1;31mNameError\u001b[0m: name 'balloon_tip' is not defined"
     ]
    }
   ],
   "source": [
    "balloon_tip(\"aa\", \"aa\")"
   ]
  },
  {
   "cell_type": "code",
   "execution_count": null,
   "metadata": {},
   "outputs": [],
   "source": [
    "import numpy as np \n",
    "\n",
    "x = [1.0, 1.0, 0.5, 0.3, 1.0]\n",
    "y = [1, 2, 1, 2, 3]\n",
    "\n",
    "print(list(set(np.where(np.array(x) == 1)[0])&set(np.where(np.array(y) == 1)[0])))\n",
    "\n",
    "print(np."
   ]
  },
  {
   "cell_type": "code",
   "execution_count": null,
   "metadata": {},
   "outputs": [
    {
     "name": "stdout",
     "output_type": "stream",
     "text": [
      "[[1.  2.  3.  0.1]\n",
      " [4.  5.  6.  0.2]]\n"
     ]
    }
   ],
   "source": [
    "import numpy as np \n",
    "x = np.array([[1,2,3], [4,5,6]])\n",
    "y = np.array([[0.1], [0.2]])\n",
    "\n",
    "a = np.append(x, y, axis= 1)\n",
    "print(a)\n",
    "\n",
    "from utils."
   ]
  },
  {
   "cell_type": "code",
   "execution_count": null,
   "metadata": {},
   "outputs": [],
   "source": []
  },
  {
   "cell_type": "code",
   "execution_count": null,
   "metadata": {},
   "outputs": [],
   "source": [
    "class test():\n",
    "\n",
    "    def __init__(self):\n",
    "        self.arr = []\n",
    "        pass\n",
    "    def append(self, val):\n",
    "        self.arr.append(val)"
   ]
  },
  {
   "cell_type": "code",
   "execution_count": null,
   "metadata": {},
   "outputs": [],
   "source": [
    "mem = [test() for i in range(3)]"
   ]
  },
  {
   "cell_type": "code",
   "execution_count": null,
   "metadata": {},
   "outputs": [],
   "source": [
    "mem[0].append(3)\n",
    "mem[0].arr"
   ]
  },
  {
   "cell_type": "code",
   "execution_count": null,
   "metadata": {},
   "outputs": [],
   "source": [
    "[mem[i].arr for i in range(3)]"
   ]
  },
  {
   "cell_type": "code",
   "execution_count": null,
   "metadata": {},
   "outputs": [],
   "source": [
    "\n",
    "\n",
    "def push_notification(title= \"Thông báo\", content = \"Chương trình của bạn đã xong\"):\n",
    "    from win10toast import ToastNotifier\n",
    "    infor = ToastNotifier() \n",
    "    infor.show_toast(\"Thông báo\", \"Chương trình của bạn đã chạy xong\")"
   ]
  },
  {
   "cell_type": "code",
   "execution_count": null,
   "metadata": {},
   "outputs": [
    {
     "name": "stdout",
     "output_type": "stream",
     "text": [
      "Gauss\n",
      "DE\n"
     ]
    }
   ],
   "source": [
    "from SaMTPSO.learn_phase import learn_phase_task\n",
    "lp= learn_phase_task() \n",
    "print(lp.operator1.name)\n",
    "lp.update_operator(swap= True) \n",
    "print(lp.operator1.name)\n"
   ]
  },
  {
   "cell_type": "code",
   "execution_count": null,
   "metadata": {},
   "outputs": [],
   "source": [
    "push_notification()"
   ]
  },
  {
   "cell_type": "code",
   "execution_count": null,
   "metadata": {},
   "outputs": [],
   "source": [
    "from notification_push import * \n",
    "balloon_tip(\"hmmm\", \"hmm\")"
   ]
  },
  {
   "cell_type": "code",
   "execution_count": null,
   "metadata": {},
   "outputs": [],
   "source": [
    "from plyer import notification\n",
    "\n",
    "notification.notify(\n",
    "    title='Here is the title',\n",
    "    message='Here is the message',\n",
    "    app_icon=None,  # e.g. 'C:\\\\icon_32x32.ico'\n",
    "    timeout=10,  # seconds\n",
    ")"
   ]
  },
  {
   "cell_type": "code",
   "execution_count": null,
   "metadata": {},
   "outputs": [
    {
     "name": "stdout",
     "output_type": "stream",
     "text": [
      "[0.33332083 0.3333375  0.33334167]\n"
     ]
    }
   ],
   "source": [
    "import numpy as np\n",
    "a = np.array([[1,2,3], [4,5,6], [7,8,9]])\n",
    "b = np.array([[1,2,3], [4,5,6], [7,8,9]])\n",
    "srtk = np.sum(a, axis = 1) / (np.sum(a, axis = 1) + np.sum(b, axis= 1) + 0.001) \n",
    "p = srtk / np.sum(srtk) \n",
    "print(p)"
   ]
  },
  {
   "cell_type": "code",
   "execution_count": null,
   "metadata": {},
   "outputs": [
    {
     "data": {
      "text/plain": [
       "False"
      ]
     },
     "execution_count": 11,
     "metadata": {},
     "output_type": "execute_result"
    }
   ],
   "source": [
    "a = True \n",
    "a = not a \n",
    "a"
   ]
  }
 ],
 "metadata": {
  "interpreter": {
   "hash": "965ba1120b0c101b3f715b6e258a73742ec1cf86f2c8b04492724c87d9f112c3"
  },
  "kernelspec": {
   "display_name": "Python 3.8.8 64-bit",
   "language": "python",
   "name": "python3"
  },
  "language_info": {
   "codemirror_mode": {
    "name": "ipython",
    "version": 3
   },
   "file_extension": ".py",
   "mimetype": "text/x-python",
   "name": "python",
   "nbconvert_exporter": "python",
   "pygments_lexer": "ipython3",
   "version": "3.9.5"
  },
  "orig_nbformat": 4
 },
 "nbformat": 4,
 "nbformat_minor": 2
}
