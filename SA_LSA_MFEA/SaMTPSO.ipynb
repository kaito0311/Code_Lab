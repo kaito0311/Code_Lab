{
 "cells": [
  {
   "cell_type": "code",
   "execution_count": 1,
   "metadata": {},
   "outputs": [],
   "source": [
    "from utils.benchmark_function import *\n",
    "from SaMTPSO.lsa_SaMTPSO import * \n",
    "\n",
    "tasks = getManyTasks10()\n"
   ]
  },
  {
   "cell_type": "code",
   "execution_count": 4,
   "metadata": {},
   "outputs": [
    {
     "name": "stdout",
     "output_type": "stream",
     "text": [
      "Epoch 1001, [====================>] 100% ,pop_size: 490,focus: [False, False, False, False, False, False, False, False, False, False],  func_val: [2.939156893334171e-24, 2.1325750167382745e-25, 0.0, 0.0, 3.529496975897353e-22, 1.2434497875801753e-13, 0.0, 3.637978807091713e-12, 0.0, 72.63189012383788]2.63189012383788]8]3793]2383793]3]3].63189012383862]]]]]]27]]3]19385044]]83]\n",
      "Sphere _dimension: 50 :  2.939156893334171e-24\n",
      "Sphere _dimension: 50 :  2.1325750167382745e-25\n",
      "Sphere _dimension: 50 :  0.0\n",
      "Weierstrass _dimension: 25 :  0.0\n",
      "Rosenbrock _dimension: 50 :  3.529496975897353e-22\n",
      "Ackley _dimension: 50 :  1.2434497875801753e-13\n",
      "Weierstrass _dimension: 50 :  0.0\n",
      "Schewefel _dimension: 50 :  3.637978807091713e-12\n",
      "Girewank _dimension: 50 :  0.0\n",
      "Rastrigin _dimension: 50 :  72.63189012383788\n",
      "Epoch 1001, [====================>] 100% ,pop_size: 490,focus: [False, False, False, False, False, False, False, False, False, False],  func_val: [6.040276396841079e-25, 7.108583389127582e-26, 2.0194839173657902e-28, 0.0, 5.781413899603338e-23, 7.460698725481052e-14, 0.0, 3.637978807091713e-12, 0.0, 39.79835220809338]]]09343]220809343]]]1867]2]081322]]045]]675]235903214]]]\n",
      "Sphere _dimension: 50 :  6.040276396841079e-25\n",
      "Sphere _dimension: 50 :  7.108583389127582e-26\n",
      "Sphere _dimension: 50 :  2.0194839173657902e-28\n",
      "Weierstrass _dimension: 25 :  0.0\n",
      "Rosenbrock _dimension: 50 :  5.781413899603338e-23\n",
      "Ackley _dimension: 50 :  7.460698725481052e-14\n",
      "Weierstrass _dimension: 50 :  0.0\n",
      "Schewefel _dimension: 50 :  3.637978807091713e-12\n",
      "Girewank _dimension: 50 :  0.0\n",
      "Rastrigin _dimension: 50 :  39.79835220809338\n"
     ]
    }
   ],
   "source": [
    "history_cost= []\n",
    "history_p_matrix = [] \n",
    "for i in range(3):\n",
    "\n",
    "    history, p_matrix = lsa_SaMTPSO(tasks,lsa= True)\n",
    "    history_cost.append(history) \n",
    "    history_p_matrix.append(p_matrix) "
   ]
  },
  {
   "cell_type": "markdown",
   "metadata": {},
   "source": []
  },
  {
   "cell_type": "code",
   "execution_count": null,
   "metadata": {},
   "outputs": [],
   "source": [
    "from plyer import notification\n",
    "\n",
    "notification.notify(\n",
    "    title='Done',\n",
    "    message='thực hiện xong lsa',\n",
    "    app_icon=None,  # e.g. 'C:\\\\icon_32x32.ico'\n",
    "    timeout=10,  # seconds\n",
    ")"
   ]
  },
  {
   "cell_type": "code",
   "execution_count": 3,
   "metadata": {},
   "outputs": [
    {
     "name": "stdout",
     "output_type": "stream",
     "text": [
      "0.7250868603712242\n",
      "0.10705319383134188\n",
      "0.11276098824585029\n",
      "0.11824463534444973\n",
      "0.1216725583143614\n",
      "0.1262929041226217\n",
      "0.13148400641098051\n",
      "0.13616531799341236\n",
      "0.14010437435725726\n",
      "0.14451529462800786\n"
     ]
    }
   ],
   "source": [
    "for i in range(10):\n",
    "    print(p_matrix[i][0][0])"
   ]
  },
  {
   "cell_type": "code",
   "execution_count": 2,
   "metadata": {},
   "outputs": [
    {
     "ename": "NameError",
     "evalue": "name 'np' is not defined",
     "output_type": "error",
     "traceback": [
      "\u001b[1;31m---------------------------------------------------------------------------\u001b[0m",
      "\u001b[1;31mNameError\u001b[0m                                 Traceback (most recent call last)",
      "\u001b[1;32m~\\AppData\\Local\\Temp/ipykernel_9412/729342476.py\u001b[0m in \u001b[0;36m<module>\u001b[1;34m\u001b[0m\n\u001b[0;32m      2\u001b[0m \u001b[0mplt\u001b[0m\u001b[1;33m.\u001b[0m\u001b[0mfigure\u001b[0m\u001b[1;33m(\u001b[0m\u001b[0mfigsize\u001b[0m\u001b[1;33m=\u001b[0m \u001b[1;33m(\u001b[0m\u001b[1;36m20\u001b[0m\u001b[1;33m,\u001b[0m\u001b[1;36m10\u001b[0m\u001b[1;33m)\u001b[0m\u001b[1;33m)\u001b[0m\u001b[1;33m\u001b[0m\u001b[1;33m\u001b[0m\u001b[0m\n\u001b[0;32m      3\u001b[0m \u001b[1;32mfor\u001b[0m \u001b[0mi\u001b[0m \u001b[1;32min\u001b[0m \u001b[0mrange\u001b[0m\u001b[1;33m(\u001b[0m\u001b[1;36m10\u001b[0m\u001b[1;33m)\u001b[0m\u001b[1;33m:\u001b[0m\u001b[1;33m\u001b[0m\u001b[1;33m\u001b[0m\u001b[0m\n\u001b[1;32m----> 4\u001b[1;33m     \u001b[0mplt\u001b[0m\u001b[1;33m.\u001b[0m\u001b[0mplot\u001b[0m\u001b[1;33m(\u001b[0m\u001b[0mnp\u001b[0m\u001b[1;33m.\u001b[0m\u001b[0marange\u001b[0m\u001b[1;33m(\u001b[0m\u001b[0mlen\u001b[0m\u001b[1;33m(\u001b[0m\u001b[0mp_matrix\u001b[0m\u001b[1;33m)\u001b[0m\u001b[1;33m)\u001b[0m\u001b[1;33m,\u001b[0m \u001b[1;33m[\u001b[0m\u001b[0mmatrix\u001b[0m\u001b[1;33m[\u001b[0m\u001b[1;36m8\u001b[0m\u001b[1;33m-\u001b[0m\u001b[1;36m1\u001b[0m\u001b[1;33m]\u001b[0m\u001b[1;33m[\u001b[0m\u001b[0mi\u001b[0m\u001b[1;33m]\u001b[0m \u001b[1;32mfor\u001b[0m \u001b[0mmatrix\u001b[0m \u001b[1;32min\u001b[0m \u001b[0mp_matrix\u001b[0m\u001b[1;33m]\u001b[0m\u001b[1;33m,\u001b[0m \u001b[0mlabel\u001b[0m \u001b[1;33m=\u001b[0m \u001b[1;34m\"task \"\u001b[0m \u001b[1;33m+\u001b[0m \u001b[0mstr\u001b[0m\u001b[1;33m(\u001b[0m\u001b[0mi\u001b[0m\u001b[1;33m+\u001b[0m\u001b[1;36m1\u001b[0m\u001b[1;33m)\u001b[0m\u001b[1;33m)\u001b[0m\u001b[1;33m\u001b[0m\u001b[1;33m\u001b[0m\u001b[0m\n\u001b[0m\u001b[0;32m      5\u001b[0m     \u001b[0mplt\u001b[0m\u001b[1;33m.\u001b[0m\u001b[0mlegend\u001b[0m\u001b[1;33m(\u001b[0m\u001b[1;33m)\u001b[0m\u001b[1;33m\u001b[0m\u001b[1;33m\u001b[0m\u001b[0m\n",
      "\u001b[1;31mNameError\u001b[0m: name 'np' is not defined"
     ]
    },
    {
     "data": {
      "text/plain": [
       "<Figure size 1440x720 with 0 Axes>"
      ]
     },
     "metadata": {},
     "output_type": "display_data"
    }
   ],
   "source": [
    "import matplotlib.pyplot as plt \n",
    "plt.figure(figsize= (20,10)) \n",
    "for i in range(10):\n",
    "    plt.plot(np.arange(len(p_matrix)), [matrix[8-1][i] for matrix in p_matrix], label = \"task \" + str(i+1))\n",
    "    plt.legend()\n"
   ]
  }
 ],
 "metadata": {
  "interpreter": {
   "hash": "8da01e5a71448ea74f54d88afa8911010d1d12e23bc7e103d40d5def4a09152c"
  },
  "kernelspec": {
   "display_name": "Python 3.9.5 64-bit",
   "language": "python",
   "name": "python3"
  },
  "language_info": {
   "codemirror_mode": {
    "name": "ipython",
    "version": 3
   },
   "file_extension": ".py",
   "mimetype": "text/x-python",
   "name": "python",
   "nbconvert_exporter": "python",
   "pygments_lexer": "ipython3",
   "version": "3.9.5"
  },
  "orig_nbformat": 4
 },
 "nbformat": 4,
 "nbformat_minor": 2
}
