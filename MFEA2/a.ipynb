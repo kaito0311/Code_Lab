{
 "cells": [
  {
   "cell_type": "code",
   "execution_count": 376,
   "metadata": {},
   "outputs": [],
   "source": [
    "import numpy as np \n",
    "from scipy.optimize import optimize "
   ]
  },
  {
   "cell_type": "code",
   "execution_count": 377,
   "metadata": {},
   "outputs": [],
   "source": [
    "LOWER_BOUND = -50\n",
    "UPPER_BOUND = 50\n",
    "NUMBER_SUBPOPULATION = 2\n",
    "NUMBER_TASK = 2\n",
    "DIMENSIONS = 5\n",
    "np.random.seed(1)"
   ]
  },
  {
   "cell_type": "code",
   "execution_count": 378,
   "metadata": {},
   "outputs": [],
   "source": [
    "class sphere_function:\n",
    "    def __init__(self, dimension):\n",
    "        self.dimension= dimension \n",
    "    def decode(self, array_value):\n",
    "        array_value = array_value[:self.dimension]\n",
    "        return array_value \n",
    "    def calculate_fitness(self,array_value):\n",
    "        x = self.decode(array_value)\n",
    "        # print(array_value.shape)\n",
    "        # print(array_va)\n",
    "        sum = np.sum(x * x, keepdims= True)\n",
    "        return float(sum) "
   ]
  },
  {
   "cell_type": "code",
   "execution_count": 379,
   "metadata": {},
   "outputs": [],
   "source": [
    "class rastrigin_function: \n",
    "    def __init__(self, dimension, A = 10): \n",
    "        self.dimension = dimension\n",
    "        self.A = A\n",
    "    def decode(self, array_value):\n",
    "        array_value = array_value[:self.dimension]\n",
    "        return np.array(array_value)\n",
    "    def calculate_fitness(self, array_value): \n",
    "        x = self.decode(array_value) \n",
    "        sum = self.A * self.dimension + np.sum(x * x) - self.A * np.sum(np.cos(2 * np.pi * np.cos(x)))\n",
    "        return float(sum) \n",
    " \n",
    "        "
   ]
  },
  {
   "cell_type": "code",
   "execution_count": 380,
   "metadata": {},
   "outputs": [],
   "source": [
    "population = np.zeros((NUMBER_SUBPOPULATION * NUMBER_TASK, DIMENSIONS))\n",
    "skill_factor = np.zeros((1,NUMBER_SUBPOPULATION * NUMBER_TASK))\n",
    "RMP = np.zeros((NUMBER_TASK, NUMBER_TASK))\n",
    "factorial_cost = np.zeros((1,NUMBER_SUBPOPULATION * NUMBER_TASK))\n",
    "\n",
    "tasks = [sphere_function(dimension= 2), rastrigin_function(dimension= 2)]"
   ]
  },
  {
   "cell_type": "code",
   "execution_count": 381,
   "metadata": {},
   "outputs": [],
   "source": [
    "def evaluate_population(population, skill_factor, factorial_cost, tasks):\n",
    "    for individual in range(len(population)):\n",
    "        best_task = individual % NUMBER_TASK\n",
    "        skill_factor[0][individual] =  best_task\n",
    "        factorial_cost[0][individual] = (tasks[best_task].calculate_fitness(population[individual]))"
   ]
  },
  {
   "cell_type": "code",
   "execution_count": 382,
   "metadata": {},
   "outputs": [],
   "source": [
    "def create_population(population):\n",
    "    population = np.random.uniform(low = LOWER_BOUND, high = UPPER_BOUND, size= population.shape)"
   ]
  },
  {
   "cell_type": "code",
   "execution_count": 383,
   "metadata": {},
   "outputs": [],
   "source": [
    "def compute_scalarfitness(factorial_cost, skill_factor):\n",
    "\n",
    "    temp = np.empty_like(factorial_cost) \n",
    "    index = np.zeros((NUMBER_TASK, 1), dtype=int);\n",
    "    \n",
    "    for i in range(len(factorial_cost)):\n",
    "        temp[skill_factor[i] * NUMBER_SUBPOPULATION + int(index[skill_factor[i]])] = factorial_cost[i]\n",
    "        index[skill_factor[i]] += 1\n",
    "\n",
    "    temp = np.array(temp) \n",
    "    ranks = np.empty_like(temp)\n",
    "\n",
    "    for task in range(NUMBER_TASK): \n",
    "        temp2 = temp[task * NUMBER_TASK: (task+1) * NUMBER_TASK].argsort() \n",
    "        ranks[temp2 + task * NUMBER_TASK] = np.arange(len(temp2))\n",
    "\n",
    "    real_ranks = np.zeros(temp.shape, dtype = float)\n",
    "    index = np.zeros((NUMBER_TASK, 1), dtype=int);\n",
    "\n",
    "    for i in range(len(factorial_cost)):\n",
    "        real_ranks[i] = 1.0/(ranks[skill_factor[i] * NUMBER_SUBPOPULATION + index[skill_factor[i]]] + 1)\n",
    "        index[skill_factor[i]] += 1\n",
    "    print(real_ranks)\n",
    "        \n",
    "    "
   ]
  },
  {
   "cell_type": "code",
   "execution_count": null,
   "metadata": {},
   "outputs": [],
   "source": []
  },
  {
   "cell_type": "code",
   "execution_count": 384,
   "metadata": {},
   "outputs": [
    {
     "name": "stdout",
     "output_type": "stream",
     "text": [
      "[1 3 0 2]\n",
      "[0 1 2]\n",
      "[2 0 3 1]\n"
     ]
    }
   ],
   "source": [
    "array = np.array([4,2,7,2])\n",
    "temp = array.argsort()\n",
    "print(temp)\n",
    "ranks = np.empty_like(temp)\n",
    "ranks[temp] = np.arange(len(array))\n",
    "print(np.arange(3))\n",
    "print(ranks)"
   ]
  },
  {
   "cell_type": "code",
   "execution_count": 385,
   "metadata": {},
   "outputs": [
    {
     "name": "stdout",
     "output_type": "stream",
     "text": [
      "(3, 3)\n",
      "[[3.33333333 4.33333333 5.33333333]]\n",
      "[[2.05480467 2.05480467 2.05480467]]\n"
     ]
    }
   ],
   "source": [
    "a = np.array([[1,2,3],[3,4,5],[6,7,8]], dtype = float)\n",
    "print(a.shape)\n",
    "print(np.mean(a, axis = 0, dtype = float, keepdims= True))\n",
    "print(np.std(a, axis = 0, dtype = float, keepdims= True))"
   ]
  },
  {
   "cell_type": "code",
   "execution_count": 386,
   "metadata": {},
   "outputs": [
    {
     "ename": "IndexError",
     "evalue": "arrays used as indices must be of integer (or boolean) type",
     "output_type": "error",
     "traceback": [
      "\u001b[1;31m---------------------------------------------------------------------------\u001b[0m",
      "\u001b[1;31mIndexError\u001b[0m                                Traceback (most recent call last)",
      "\u001b[1;32m<ipython-input-386-c4de2a855b7b>\u001b[0m in \u001b[0;36m<module>\u001b[1;34m\u001b[0m\n\u001b[0;32m      1\u001b[0m \u001b[0mcreate_population\u001b[0m\u001b[1;33m(\u001b[0m\u001b[0mpopulation\u001b[0m\u001b[1;33m)\u001b[0m\u001b[1;33m\u001b[0m\u001b[1;33m\u001b[0m\u001b[0m\n\u001b[0;32m      2\u001b[0m \u001b[0mevaluate_population\u001b[0m\u001b[1;33m(\u001b[0m\u001b[0mpopulation\u001b[0m\u001b[1;33m,\u001b[0m \u001b[0mskill_factor\u001b[0m\u001b[1;33m,\u001b[0m \u001b[0mfactorial_cost\u001b[0m\u001b[1;33m,\u001b[0m\u001b[0mtasks\u001b[0m\u001b[1;33m)\u001b[0m\u001b[1;33m\u001b[0m\u001b[1;33m\u001b[0m\u001b[0m\n\u001b[1;32m----> 3\u001b[1;33m \u001b[0mcompute_scalarfitness\u001b[0m\u001b[1;33m(\u001b[0m\u001b[0mfactorial_cost\u001b[0m\u001b[1;33m,\u001b[0m \u001b[0mskill_factor\u001b[0m\u001b[1;33m)\u001b[0m\u001b[1;33m\u001b[0m\u001b[1;33m\u001b[0m\u001b[0m\n\u001b[0m",
      "\u001b[1;32m<ipython-input-383-8f1089656c7a>\u001b[0m in \u001b[0;36mcompute_scalarfitness\u001b[1;34m(factorial_cost, skill_factor)\u001b[0m\n\u001b[0;32m      5\u001b[0m \u001b[1;33m\u001b[0m\u001b[0m\n\u001b[0;32m      6\u001b[0m     \u001b[1;32mfor\u001b[0m \u001b[0mi\u001b[0m \u001b[1;32min\u001b[0m \u001b[0mrange\u001b[0m\u001b[1;33m(\u001b[0m\u001b[0mlen\u001b[0m\u001b[1;33m(\u001b[0m\u001b[0mfactorial_cost\u001b[0m\u001b[1;33m)\u001b[0m\u001b[1;33m)\u001b[0m\u001b[1;33m:\u001b[0m\u001b[1;33m\u001b[0m\u001b[1;33m\u001b[0m\u001b[0m\n\u001b[1;32m----> 7\u001b[1;33m         \u001b[0mtemp\u001b[0m\u001b[1;33m[\u001b[0m\u001b[0mskill_factor\u001b[0m\u001b[1;33m[\u001b[0m\u001b[0mi\u001b[0m\u001b[1;33m]\u001b[0m \u001b[1;33m*\u001b[0m \u001b[0mNUMBER_SUBPOPULATION\u001b[0m \u001b[1;33m+\u001b[0m \u001b[0mindex\u001b[0m\u001b[1;33m[\u001b[0m\u001b[0mskill_factor\u001b[0m\u001b[1;33m[\u001b[0m\u001b[0mi\u001b[0m\u001b[1;33m]\u001b[0m\u001b[1;33m]\u001b[0m\u001b[1;33m]\u001b[0m \u001b[1;33m=\u001b[0m \u001b[0mfactorial_cost\u001b[0m\u001b[1;33m[\u001b[0m\u001b[0mi\u001b[0m\u001b[1;33m]\u001b[0m\u001b[1;33m\u001b[0m\u001b[1;33m\u001b[0m\u001b[0m\n\u001b[0m\u001b[0;32m      8\u001b[0m         \u001b[0mindex\u001b[0m\u001b[1;33m[\u001b[0m\u001b[0mskill_factor\u001b[0m\u001b[1;33m[\u001b[0m\u001b[0mi\u001b[0m\u001b[1;33m]\u001b[0m\u001b[1;33m]\u001b[0m \u001b[1;33m+=\u001b[0m \u001b[1;36m1\u001b[0m\u001b[1;33m\u001b[0m\u001b[1;33m\u001b[0m\u001b[0m\n\u001b[0;32m      9\u001b[0m \u001b[1;33m\u001b[0m\u001b[0m\n",
      "\u001b[1;31mIndexError\u001b[0m: arrays used as indices must be of integer (or boolean) type"
     ]
    }
   ],
   "source": [
    "create_population(population)\n",
    "evaluate_population(population, skill_factor, factorial_cost,tasks) \n",
    "compute_scalarfitness(factorial_cost, skill_factor)"
   ]
  }
 ],
 "metadata": {
  "interpreter": {
   "hash": "965ba1120b0c101b3f715b6e258a73742ec1cf86f2c8b04492724c87d9f112c3"
  },
  "kernelspec": {
   "display_name": "Python 3.8.8 64-bit",
   "language": "python",
   "name": "python3"
  },
  "language_info": {
   "codemirror_mode": {
    "name": "ipython",
    "version": 3
   },
   "file_extension": ".py",
   "mimetype": "text/x-python",
   "name": "python",
   "nbconvert_exporter": "python",
   "pygments_lexer": "ipython3",
   "version": "3.8.8"
  },
  "orig_nbformat": 4
 },
 "nbformat": 4,
 "nbformat_minor": 2
}
